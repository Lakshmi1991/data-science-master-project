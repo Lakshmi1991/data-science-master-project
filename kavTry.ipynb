{
 "cells": [
  {
   "cell_type": "markdown",
   "metadata": {},
   "source": [
    "# Libraries for this notebook"
   ]
  },
  {
   "cell_type": "code",
   "execution_count": null,
   "metadata": {},
   "outputs": [],
   "source": [
    "import pandas as pd\n",
    "import seaborn as sns\n",
    "\n",
    "pd.set_option('display.max_colwidth', -1)"
   ]
  },
  {
   "cell_type": "markdown",
   "metadata": {},
   "source": [
    "## goibibo dataframe preparation"
   ]
  },
  {
   "cell_type": "code",
   "execution_count": null,
   "metadata": {
    "scrolled": false
   },
   "outputs": [],
   "source": [
    "data_goibibo = pd.read_csv(r\"C:\\Users\\kavya\\Documents\\4Th Sem\\documents_masterProj\\projectDataSet\\goibibo_com-travel_sample.csv\")\n",
    "\n",
    "data_goibibo['hotel_facilities'] =  data_goibibo['additional_info'] + data_goibibo['hotel_facilities'] + data_goibibo['room_facilities']\n",
    "\n",
    "\n",
    "ibibo_cols_remove = ['additional_info','room_facilities','area','country','crawl_date','similar_hotel','uniq_id',\n",
    "                     'locality','province','qts','query_time_stamp','property_id','review_count_by_category','point_of_interest',\n",
    "                     'room_area','hotel_category','guest_recommendation','hotel_brand']\n",
    "\n",
    "data_goibibo = data_goibibo.drop(ibibo_cols_remove,axis=1)\n",
    "\n",
    "print(data_goibibo.shape)\n",
    "print(data_goibibo.dtypes)\n",
    "\n",
    "data_goibibo.head(5)\n"
   ]
  },
  {
   "cell_type": "markdown",
   "metadata": {},
   "source": [
    "## booking dataframe preparation"
   ]
  },
  {
   "cell_type": "code",
   "execution_count": null,
   "metadata": {},
   "outputs": [],
   "source": [
    "data_booking = pd.read_csv(r\"C:\\Users\\kavya\\Documents\\4Th Sem\\documents_masterProj\\projectDataSet\\booking_com-travel_sample.csv\")\n",
    "\n",
    "booking_cols_remove = ['country','crawl_date','property_id','province','qts','similar_hotel','zone',\n",
    "                       'special_tag','uniq_id','locality','hotel_brand']\n",
    "\n",
    "data_booking = data_booking.drop(booking_cols_remove, axis=1)\n",
    "\n",
    "print(data_booking.shape)\n",
    "print(data_booking.dtypes)\n",
    "\n",
    "data_booking.head(5)"
   ]
  },
  {
   "cell_type": "markdown",
   "metadata": {},
   "source": [
    "## Listing similar columns from dataframes"
   ]
  },
  {
   "cell_type": "code",
   "execution_count": null,
   "metadata": {},
   "outputs": [],
   "source": [
    "ibibo_cols = data_goibibo.columns.values.tolist()\n",
    "booking_cols = data_booking.columns.values.tolist()\n",
    "\n",
    "def same_cols_list_func(ibibo_cols, booking_cols):\n",
    "    same_cols = [i for i in ibibo_cols + booking_cols if i in ibibo_cols or i in booking_cols] \n",
    "    return same_cols\n",
    "\n",
    "same_cols_list = same_cols_list_func(ibibo_cols,booking_cols)\n",
    "\n",
    "same_cols_list"
   ]
  },
  {
   "cell_type": "markdown",
   "metadata": {},
   "source": [
    "## Listing different columns from dataframes"
   ]
  },
  {
   "cell_type": "code",
   "execution_count": null,
   "metadata": {},
   "outputs": [],
   "source": [
    "def diff_cols_list_func(ibibo_cols, booking_cols):\n",
    "    diff_cols = [i for i in ibibo_cols + booking_cols if i not in ibibo_cols or i not in booking_cols] \n",
    "    return diff_cols\n",
    "\n",
    "diff_cols_list = diff_cols_list_func(ibibo_cols,booking_cols)\n",
    "\n",
    "diff_cols_list"
   ]
  },
  {
   "cell_type": "markdown",
   "metadata": {},
   "source": [
    "# handling dtype issue\n",
    "\n",
    "### identifying difference in dtypes between the columns of dataframes"
   ]
  },
  {
   "cell_type": "code",
   "execution_count": null,
   "metadata": {},
   "outputs": [],
   "source": [
    "for i_col in ibibo_cols:\n",
    "    if(data_goibibo[i_col].dtype != data_booking[i_col].dtype):\n",
    "        print(data_goibibo[i_col].name,data_goibibo[i_col].dtype)\n",
    "        print(data_booking[i_col].name,data_booking[i_col].dtype)\n",
    "        print('--xx--')\n"
   ]
  },
  {
   "cell_type": "markdown",
   "metadata": {},
   "source": [
    "### handling string to number conversion and regular expression errors in columns"
   ]
  },
  {
   "cell_type": "code",
   "execution_count": null,
   "metadata": {
    "scrolled": true
   },
   "outputs": [],
   "source": [
    "print(data_booking['site_review_count'].dtype)\n",
    "data_booking['site_review_count'] = data_booking['site_review_count'].replace('\\,','',regex=True).astype(float)\n",
    "print(data_booking['site_review_count'].dtype)\n",
    "\n",
    "print('--xx--')\n",
    "\n",
    "print(data_booking['hotel_star_rating'].dtype)\n",
    "data_booking['hotel_star_rating'] = data_booking['hotel_star_rating'].str.extract('(\\d+)')\n",
    "data_booking['hotel_star_rating'] = pd.to_numeric(data_booking['hotel_star_rating'])\n",
    "print(data_booking['hotel_star_rating'].dtype)"
   ]
  },
  {
   "cell_type": "markdown",
   "metadata": {},
   "source": [
    "### casting identified dissimilar dtypes of columns to common type in dataframes"
   ]
  },
  {
   "cell_type": "code",
   "execution_count": null,
   "metadata": {},
   "outputs": [],
   "source": [
    "col_dataTypeFix = {\n",
    "    'hotel_star_rating' : float,\n",
    "    'image_count' : float,\n",
    "    'room_count' : float,\n",
    "    'site_review_count' : float\n",
    "}\n",
    "\n",
    "data_goibibo.astype(col_dataTypeFix)\n",
    "data_booking.astype(col_dataTypeFix)\n"
   ]
  },
  {
   "cell_type": "markdown",
   "metadata": {},
   "source": [
    "## Merging / Appending two dataframes \n",
    "#### Only if columns of dataframes have been prepared well"
   ]
  },
  {
   "cell_type": "code",
   "execution_count": null,
   "metadata": {},
   "outputs": [],
   "source": [
    "data_goibibo_booking = data_goibibo.append(data_booking,ignore_index = True, sort = False)\n",
    "\n",
    "print(data_goibibo_booking.shape)\n",
    "\n",
    "data_goibibo_booking.columns.values.tolist()"
   ]
  },
  {
   "cell_type": "markdown",
   "metadata": {},
   "source": [
    "# Cleartrip dataframe preparation"
   ]
  },
  {
   "cell_type": "code",
   "execution_count": null,
   "metadata": {},
   "outputs": [],
   "source": [
    "data_clearTrip = pd.read_csv(r\"C:\\Users\\kavya\\Documents\\4Th Sem\\documents_masterProj\\projectDataSet\\cleartrip_com-travel_sample.csv\")\n",
    "\n",
    "data_clearTrip['hotel_facilities'] = data_clearTrip['hotel_facilities'] + data_clearTrip['room_facilities']\n",
    "\n",
    "data_clearTrip = data_clearTrip.rename(columns={'tad_review_count':'site_review_count','tad_review_rating':'site_review_rating',\n",
    "                              'tad_stay_review_rating':'site_stay_review_rating'})\n",
    "\n",
    "clearTrip_cols_remove = ['area','country','cleartrip_seller_rating','crawl_date','image_urls','landmark','locality','property_id',\n",
    "                        'province','qts','room_area','room_facilities','similar_hotel','tripadvisor_seller_rating','uniq_id'];\n",
    "\n",
    "\n",
    "data_clearTrip = data_clearTrip.drop(clearTrip_cols_remove,axis=1)\n",
    "\n",
    "print(data_clearTrip.shape)\n",
    "print(data_clearTrip.columns.values.tolist())"
   ]
  },
  {
   "cell_type": "markdown",
   "metadata": {},
   "source": [
    "### Handling dtypes issue cleartrip  \n"
   ]
  },
  {
   "cell_type": "code",
   "execution_count": null,
   "metadata": {
    "scrolled": true
   },
   "outputs": [],
   "source": [
    "ibibo_booking_cols = data_goibibo_booking.columns.values.tolist()\n",
    "clear_cols = data_clearTrip.columns.values.tolist()\n",
    "\n",
    "for i_b_col in ibibo_booking_cols:\n",
    "    if(data_goibibo_booking[i_b_col].dtype != data_clearTrip[i_b_col].dtype):\n",
    "        print(data_goibibo_booking[i_b_col].name,data_goibibo_booking[i_b_col].dtype)\n",
    "        print(data_clearTrip[i_b_col].name,data_clearTrip[i_b_col].dtype)\n",
    "        print('--xx--')"
   ]
  },
  {
   "cell_type": "code",
   "execution_count": null,
   "metadata": {
    "scrolled": true
   },
   "outputs": [],
   "source": [
    "print(data_clearTrip['hotel_star_rating'].dtype)\n",
    "data_clearTrip['hotel_star_rating'] = data_clearTrip['hotel_star_rating'].str.extract('(\\d+)')\n",
    "data_clearTrip['hotel_star_rating'] = pd.to_numeric(data_booking['hotel_star_rating'])\n",
    "print(data_clearTrip['hotel_star_rating'].dtype)\n"
   ]
  },
  {
   "cell_type": "markdown",
   "metadata": {},
   "source": [
    "#### making the dtypes similar in cleartrip"
   ]
  },
  {
   "cell_type": "code",
   "execution_count": null,
   "metadata": {},
   "outputs": [],
   "source": [
    "clearTrip_dataTypeFix = {\n",
    "    'hotel_star_rating' : float,\n",
    "    'image_count' : float,\n",
    "    'room_count' : float\n",
    "}\n",
    "\n",
    "data_clearTrip.astype(clearTrip_dataTypeFix)"
   ]
  },
  {
   "cell_type": "markdown",
   "metadata": {},
   "source": [
    "## merging data_clearTrip and ibibo_booking_data dataframes"
   ]
  },
  {
   "cell_type": "code",
   "execution_count": null,
   "metadata": {},
   "outputs": [],
   "source": [
    "data_goibibo_booking_clear = data_goibibo_booking.append(data_clearTrip,ignore_index = True, sort = False)\n",
    "\n",
    "print(data_goibibo_booking_clear.shape)\n",
    "\n",
    "data_goibibo_booking_clear.columns.values.tolist()\n",
    "\n",
    "data_goibibo_booking_clear\n",
    "\n",
    "print('-- xx Available values xx--')\n",
    "print(data_goibibo_booking_clear.count())\n",
    "\n",
    "print('-- xx NA values xx--')\n",
    "print(data_goibibo_booking_clear.isna().sum())\n",
    "\n",
    "print('-- xx null values xx--')\n",
    "print(data_goibibo_booking_clear.isnull().sum())"
   ]
  },
  {
   "cell_type": "markdown",
   "metadata": {},
   "source": [
    "### taking care of NAN and null values"
   ]
  },
  {
   "cell_type": "code",
   "execution_count": null,
   "metadata": {},
   "outputs": [],
   "source": [
    "data_goibibo_booking_clear = data_goibibo_booking_clear.dropna(subset=['hotel_facilities', 'site_stay_review_rating'])\n",
    "\n",
    "data_goibibo_booking_clear = data_goibibo_booking_clear\n",
    "\n",
    "print('-- xx Available values xx--')\n",
    "print(data_goibibo_booking_clear.count())\n",
    "\n",
    "print('-- xx NA values xx--')\n",
    "print(data_goibibo_booking_clear.isna().sum())\n",
    "\n",
    "print('-- xx null values xx--')\n",
    "print(data_goibibo_booking_clear.isnull().sum())\n",
    "\n",
    "data_goibibo_booking_clear.shape"
   ]
  },
  {
   "cell_type": "markdown",
   "metadata": {},
   "source": [
    "#### creating those extra columns for SSRR"
   ]
  },
  {
   "cell_type": "code",
   "execution_count": null,
   "metadata": {},
   "outputs": [],
   "source": [
    "data_goibibo_booking_clear.insert(1,'SSRR1',0)\n",
    "data_goibibo_booking_clear.insert(2,'SSRR2',0)\n",
    "data_goibibo_booking_clear.insert(3,'SSRR3',0)\n",
    "data_goibibo_booking_clear.insert(4,'SSRR4',0)\n",
    "data_goibibo_booking_clear.insert(5,'SSRR5',0)\n",
    "data_goibibo_booking_clear.insert(6,'SSRR6',0)\n",
    "\n",
    "def extractNumericValue(indiSSRR):\n",
    "    rating = 0\n",
    "    if(len(indiSSRR) == 2):\n",
    "        if(len(indiSSRR[1]) == 0):\n",
    "            rating = 0\n",
    "        else:\n",
    "            rating = float(indiSSRR[1])\n",
    "            rating = 0.5*(1+rating)\n",
    "    return rating\n",
    "\n",
    "def extractNumericValue2(indiSSRR):\n",
    "    rating = 0\n",
    "    if(len(indiSSRR) == 2):\n",
    "        if(len(indiSSRR[1]) == 0):\n",
    "            rating = 0\n",
    "        else:\n",
    "            rating = float(indiSSRR[1])\n",
    "    return rating\n",
    "\n",
    "def manageSSRR_revised_2():\n",
    "    s_s_r_r = data_goibibo_booking_clear[['site_stay_review_rating']]\n",
    "    \n",
    "    for ind in data_goibibo_booking_clear.index:\n",
    "        valSSRR = data_goibibo_booking_clear.loc[ind,'site_stay_review_rating']\n",
    "        valSiteName = data_goibibo_booking_clear.loc[ind,'sitename']\n",
    "    \n",
    "        splitSSRR = valSSRR.split(\"|\")\n",
    "        \n",
    "        if(valSiteName == 'http://www.booking.com/'):\n",
    "            for i in range(len(splitSSRR)):\n",
    "                if(i == 0):\n",
    "                    indiSSRR = splitSSRR[i].split(\":\")\n",
    "                    rating = extractNumericValue(indiSSRR)\n",
    "                    data_goibibo_booking_clear.loc[ind,'SSRR1'] = rating\n",
    "                elif(i == 1):\n",
    "                    indiSSRR = splitSSRR[i].split(\":\")\n",
    "                    rating = extractNumericValue(indiSSRR)\n",
    "                    data_goibibo_booking_clear.loc[ind,'SSRR2'] = rating\n",
    "                elif(i == 2):\n",
    "                    indiSSRR = splitSSRR[i].split(\":\")\n",
    "                    rating = extractNumericValue(indiSSRR)\n",
    "                    data_goibibo_booking_clear.loc[ind,'SSRR3'] = rating\n",
    "                elif(i == 3):\n",
    "                    indiSSRR = splitSSRR[i].split(\":\")\n",
    "                    rating = extractNumericValue(indiSSRR)\n",
    "                    data_goibibo_booking_clear.loc[ind,'SSRR4'] = rating\n",
    "                elif(i == 4):\n",
    "                    indiSSRR = splitSSRR[i].split(\":\")\n",
    "                    rating = extractNumericValue(indiSSRR)\n",
    "                    data_goibibo_booking_clear.loc[ind,'SSRR5'] = rating\n",
    "                elif(i == 5):\n",
    "                    indiSSRR = splitSSRR[i].split(\":\")\n",
    "                    rating = extractNumericValue(indiSSRR)\n",
    "                    data_goibibo_booking_clear.loc[ind,'SSRR6'] = rating\n",
    "                    \n",
    "        else:\n",
    "            for i in range(len(splitSSRR)):\n",
    "                if(i == 0):\n",
    "                    indiSSRR = splitSSRR[i].split(\"::\")\n",
    "                    rating = extractNumericValue(indiSSRR)\n",
    "                    data_goibibo_booking_clear.loc[ind,'SSRR1'] = rating\n",
    "                elif(i == 1):\n",
    "                    indiSSRR = splitSSRR[i].split(\"::\")\n",
    "                    rating = extractNumericValue(indiSSRR)\n",
    "                    data_goibibo_booking_clear.loc[ind,'SSRR2'] = rating\n",
    "                elif(i == 2):\n",
    "                    indiSSRR = splitSSRR[i].split(\"::\")\n",
    "                    rating = extractNumericValue(indiSSRR)\n",
    "                    data_goibibo_booking_clear.loc[ind,'SSRR3'] = rating\n",
    "                elif(i == 3):\n",
    "                    indiSSRR = splitSSRR[i].split(\"::\")\n",
    "                    rating = extractNumericValue(indiSSRR)\n",
    "                    data_goibibo_booking_clear.loc[ind,'SSRR4'] = rating\n",
    "                elif(i == 4):\n",
    "                    indiSSRR = splitSSRR[i].split(\"::\")\n",
    "                    rating = extractNumericValue(indiSSRR)\n",
    "                    data_goibibo_booking_clear.loc[ind,'SSRR5'] = rating\n",
    "                elif(i == 5):\n",
    "                    indiSSRR = splitSSRR[i].split(\"::\")\n",
    "                    rating = extractNumericValue(indiSSRR)\n",
    "                    data_goibibo_booking_clear.loc[ind,'SSRR6'] = rating\n",
    "                                   \n",
    "manageSSRR_revised_2()\n",
    "    \n",
    "data_goibibo_booking_clear"
   ]
  },
  {
   "cell_type": "markdown",
   "metadata": {},
   "source": [
    "### feature engineering : site_stay_review_rating "
   ]
  },
  {
   "cell_type": "code",
   "execution_count": null,
   "metadata": {},
   "outputs": [],
   "source": [
    "def manageSSRR_revised():\n",
    "    s_s_r_r = data_goibibo_booking_clear[['site_stay_review_rating']]\n",
    "    \n",
    "    for ind in data_goibibo_booking_clear.index:\n",
    "        valSSRR = data_goibibo_booking_clear.loc[ind,'site_stay_review_rating']\n",
    "        valSiteName = data_goibibo_booking_clear.loc[ind,'sitename']\n",
    "    \n",
    "        splitSSRR = valSSRR.split(\"|\")\n",
    "        \n",
    "        sumRR = 0\n",
    "        averageRR = 0\n",
    "        \n",
    "        if(valSiteName == 'http://www.booking.com/'):\n",
    "            for i in range(len(splitSSRR)):\n",
    "                indiSSRR = splitSSRR[i].split(\":\")\n",
    "                if(len(indiSSRR) == 2):\n",
    "                    if(len(indiSSRR[1]) == 0):\n",
    "                        rating = 0\n",
    "                    else:\n",
    "                        rating = float(indiSSRR[1])\n",
    "                        ratingScaleChange = 0.5*(1+rating)\n",
    "                        sumRR += ratingScaleChange\n",
    "                else:\n",
    "                    sumRR = 0\n",
    "            if(sumRR > 0):\n",
    "                averageRR = round((sumRR/(len(splitSSRR))),2)\n",
    "            else:\n",
    "                averageRR = 0\n",
    "            data_goibibo_booking_clear.loc[ind,'site_stay_review_rating'] = averageRR\n",
    "        else:\n",
    "            for i in range(len(splitSSRR)):\n",
    "                indiSSRR = splitSSRR[i].split(\"::\")\n",
    "                if(len(indiSSRR) == 2):\n",
    "                    if(len(indiSSRR[1]) == 0):\n",
    "                        rating = 0\n",
    "                    else:\n",
    "                        rating = float(indiSSRR[1])\n",
    "                        sumRR += rating\n",
    "                else:\n",
    "                    sumRR = 0\n",
    "            if(sumRR > 0):\n",
    "                averageRR = round((sumRR/(len(splitSSRR))),2)\n",
    "            else:\n",
    "                averageRR = 0\n",
    "            data_goibibo_booking_clear.loc[ind,'site_stay_review_rating'] = averageRR\n",
    "                                   \n",
    "manageSSRR_revised()\n",
    "\n",
    "data_goibibo_booking_clear\n"
   ]
  },
  {
   "cell_type": "markdown",
   "metadata": {},
   "source": [
    "#### finding unique values in state column , there are 36 states in total. 29S + 7UT"
   ]
  },
  {
   "cell_type": "code",
   "execution_count": null,
   "metadata": {},
   "outputs": [],
   "source": [
    "print(data_goibibo_booking_clear.state.dtypes)\n",
    "\n",
    "def fixStateNames():\n",
    "    uniqueState = data_goibibo_booking_clear['state'].unique().tolist()\n",
    "    print(len(uniqueState))\n",
    "    print(uniqueState)\n",
    "    data_goibibo_booking_clear['state'] = data_goibibo_booking_clear['state'].apply(lambda x: str(x).lower()) \n",
    "    data_goibibo_booking_clear['state'] = data_goibibo_booking_clear['state'].str.replace('delhi ncr','delhi')\n",
    "    data_goibibo_booking_clear['state'] = data_goibibo_booking_clear['state'].str.replace('jammu & kashmir','jammu and kashmir')\n",
    "    data_goibibo_booking_clear['state'] = data_goibibo_booking_clear['state'].str.replace('jammuandkashmir','jammu and kashmir')\n",
    "    data_goibibo_booking_clear['state'] = data_goibibo_booking_clear['state'].str.replace('andaman and nicobar','andaman and nicobar islands')\n",
    "    data_goibibo_booking_clear['state'] = data_goibibo_booking_clear['state'].str.replace('andhrapradesh','andhra pradesh')\n",
    "    data_goibibo_booking_clear['state'] = data_goibibo_booking_clear['state'].str.replace('tamilnadu','tamil nadu')\n",
    "    data_goibibo_booking_clear['state'] = data_goibibo_booking_clear['state'].str.replace('himachalpradesh','himachal pradesh')\n",
    "    data_goibibo_booking_clear['state'] = data_goibibo_booking_clear['state'].str.replace('madhyapradesh','madhya pradesh')\n",
    "    data_goibibo_booking_clear['state'] = data_goibibo_booking_clear['state'].str.replace('uttarpradesh','uttar pradesh')\n",
    "    data_goibibo_booking_clear['state'] = data_goibibo_booking_clear['state'].str.replace('uttarakhand','uttaranchal')\n",
    "    data_goibibo_booking_clear['state'] = data_goibibo_booking_clear['state'].str.replace('westbengal','west bengal')\n",
    "    data_goibibo_booking_clear['state'] = data_goibibo_booking_clear['state'].str.replace('damananddiu','daman and diu')\n",
    "    data_goibibo_booking_clear['state'] = data_goibibo_booking_clear['state'].str.replace('andamanandnicobarislands','andaman and nicobar islands')\n",
    "    data_goibibo_booking_clear['state'] = data_goibibo_booking_clear['state'].str.replace('arunachalpradesh','arunachal pradesh')\n",
    "    uniqueState2 = data_goibibo_booking_clear['state'].unique().tolist()\n",
    "    print(len(uniqueState2))\n",
    "    print(uniqueState2)\n",
    "\n",
    "fixStateNames()\n",
    "    "
   ]
  },
  {
   "cell_type": "markdown",
   "metadata": {},
   "source": [
    "#### Adding an extra columns to store hotel facilities count"
   ]
  },
  {
   "cell_type": "code",
   "execution_count": null,
   "metadata": {},
   "outputs": [],
   "source": [
    "data_goibibo_booking_clear.insert(10,'hotel_facilities_count',0)\n"
   ]
  },
  {
   "cell_type": "markdown",
   "metadata": {},
   "source": [
    "#### counting the number of facilities : for visualisation"
   ]
  },
  {
   "cell_type": "code",
   "execution_count": null,
   "metadata": {},
   "outputs": [],
   "source": [
    "def manageHotelFacilities():\n",
    "    for ind in data_goibibo_booking_clear.index:\n",
    "        valHotelFacilities = data_goibibo_booking_clear.loc[ind,'hotel_facilities']\n",
    "        splitHF = valHotelFacilities.split(\"|\")\n",
    "        facilitiesCount = len(splitHF)\n",
    "        data_goibibo_booking_clear.loc[ind,'hotel_facilities_count'] = facilitiesCount\n",
    "\n",
    "manageHotelFacilities()\n",
    "\n",
    "data_goibibo_booking_clear"
   ]
  },
  {
   "cell_type": "markdown",
   "metadata": {},
   "source": [
    "#### finding duplicates based on address "
   ]
  },
  {
   "cell_type": "code",
   "execution_count": null,
   "metadata": {},
   "outputs": [],
   "source": [
    "data_goibibo_booking_clear_propertyDup = data_goibibo_booking_clear[data_goibibo_booking_clear.duplicated(['address'])]\n",
    "data_goibibo_booking_clear_propertyDup = data_goibibo_booking_clear_propertyDup.sort_values(by='address')\n",
    "\n",
    "data_goibibo_booking_clear_propertyDup1 = data_goibibo_booking_clear_propertyDup[['address','property_type','sitename','pageurl']]\n",
    "\n",
    "with pd.option_context(\"display.max_rows\", 3000):\n",
    "    display(data_goibibo_booking_clear_propertyDup1)"
   ]
  },
  {
   "cell_type": "markdown",
   "metadata": {},
   "source": [
    "#### cleaning and substitution of numbers to string values in property_type column"
   ]
  },
  {
   "cell_type": "code",
   "execution_count": null,
   "metadata": {},
   "outputs": [],
   "source": [
    "propertyType_values_to_replace = {'204':'hotel','208':'hotel','219':'hotel','216':'hotel','218':'hotel','223':'hotel','203':'hotel','225':'hotel','222':'homestay','201':'apartments','212':'bunglows','215':'houseboat','224':'cottages','220':'cottages','221':'lodges','213':'villas','206':'resort','231':'resort'}\n",
    "data_goibibo_booking_clear = data_goibibo_booking_clear.replace({\"property_type\":propertyType_values_to_replace})\n",
    "\n",
    "data_goibibo_booking_clear['property_type'] = data_goibibo_booking_clear['property_type'].apply(lambda x: str(x).lower())\n",
    "\n",
    "data_goibibo_booking_clear['property_type'] = data_goibibo_booking_clear['property_type'].str.replace('bed_and_breakfast','bed and breakfast')\n",
    "data_goibibo_booking_clear['property_type'] = data_goibibo_booking_clear['property_type'].str.replace('serviced apartments','service apartment')\n",
    "data_goibibo_booking_clear['property_type'] = data_goibibo_booking_clear['property_type'].str.replace('bnb','bed and breakfast')\n",
    "data_goibibo_booking_clear['property_type'] = data_goibibo_booking_clear['property_type'].str.replace('guest_house','guest house')\n",
    "data_goibibo_booking_clear['property_type'] = data_goibibo_booking_clear['property_type'].str.replace('farm_holiday','farm holiday')\n",
    "data_goibibo_booking_clear['property_type'] = data_goibibo_booking_clear['property_type'].str.replace('holiday_home','holiday home')\n",
    "data_goibibo_booking_clear['property_type'] = data_goibibo_booking_clear['property_type'].str.replace('villas','villa')\n",
    "data_goibibo_booking_clear['property_type'] = data_goibibo_booking_clear['property_type'].str.replace('bunglows','bunglow')\n",
    "data_goibibo_booking_clear['property_type'] = data_goibibo_booking_clear['property_type'].str.replace('lodges','lodge')\n",
    "data_goibibo_booking_clear['property_type'] = data_goibibo_booking_clear['property_type'].str.replace('boat','houseboat')\n",
    "data_goibibo_booking_clear['property_type'] = data_goibibo_booking_clear['property_type'].str.replace('househouseboat','houseboat')\n",
    "data_goibibo_booking_clear['property_type'] = data_goibibo_booking_clear['property_type'].str.replace('bungalow','bunglow')\n",
    "\n",
    "propertyTypeList2 = data_goibibo_booking_clear[\"property_type\"].unique().tolist()\n",
    "print(len(propertyTypeList2))\n",
    "print(propertyTypeList2)"
   ]
  },
  {
   "cell_type": "code",
   "execution_count": null,
   "metadata": {},
   "outputs": [],
   "source": []
  }
 ],
 "metadata": {
  "kernelspec": {
   "display_name": "Python 3",
   "language": "python",
   "name": "python3"
  },
  "language_info": {
   "codemirror_mode": {
    "name": "ipython",
    "version": 3
   },
   "file_extension": ".py",
   "mimetype": "text/x-python",
   "name": "python",
   "nbconvert_exporter": "python",
   "pygments_lexer": "ipython3",
   "version": "3.7.3"
  }
 },
 "nbformat": 4,
 "nbformat_minor": 2
}
